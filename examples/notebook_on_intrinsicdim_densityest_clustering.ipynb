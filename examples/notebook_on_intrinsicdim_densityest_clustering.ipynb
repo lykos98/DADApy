{
 "cells": [
  {
   "cell_type": "markdown",
   "metadata": {},
   "source": [
    "# Tutorial: Density Based Clustering"
   ]
  },
  {
   "cell_type": "markdown",
   "metadata": {},
   "source": [
    "In this tutorial, we will review a typical pipeline to follow when analyzing the data. \n",
    "The task consists in obtaining an accurate description of the clusters present in the data and their hierarchies. "
   ]
  },
  {
   "cell_type": "markdown",
   "metadata": {},
   "source": [
    "1. Load the needed modules and plot functions."
   ]
  },
  {
   "cell_type": "code",
   "execution_count": 1,
   "metadata": {},
   "outputs": [
    {
     "ename": "ModuleNotFoundError",
     "evalue": "No module named 'dadapy'",
     "output_type": "error",
     "traceback": [
      "\u001b[0;31m---------------------------------------------------------------------------\u001b[0m",
      "\u001b[0;31mModuleNotFoundError\u001b[0m                       Traceback (most recent call last)",
      "Cell \u001b[0;32mIn[1], line 3\u001b[0m\n\u001b[1;32m      1\u001b[0m \u001b[38;5;28;01mimport\u001b[39;00m \u001b[38;5;21;01mnumpy\u001b[39;00m \u001b[38;5;28;01mas\u001b[39;00m \u001b[38;5;21;01mnp\u001b[39;00m\n\u001b[1;32m      2\u001b[0m \u001b[38;5;28;01mimport\u001b[39;00m \u001b[38;5;21;01mmatplotlib\u001b[39;00m\u001b[38;5;21;01m.\u001b[39;00m\u001b[38;5;21;01mpyplot\u001b[39;00m \u001b[38;5;28;01mas\u001b[39;00m \u001b[38;5;21;01mplt\u001b[39;00m\n\u001b[0;32m----> 3\u001b[0m \u001b[38;5;28;01mfrom\u001b[39;00m \u001b[38;5;21;01mdadapy\u001b[39;00m \u001b[38;5;28;01mimport\u001b[39;00m Data\n\u001b[1;32m      4\u001b[0m \u001b[38;5;28;01mfrom\u001b[39;00m \u001b[38;5;21;01mdadapy\u001b[39;00m\u001b[38;5;21;01m.\u001b[39;00m\u001b[38;5;21;01mplot\u001b[39;00m \u001b[38;5;28;01mimport\u001b[39;00m plot_SLAn, plot_MDS, plot_matrix, get_dendrogram, plot_DecGraph\n\u001b[1;32m      6\u001b[0m get_ipython()\u001b[38;5;241m.\u001b[39mrun_line_magic(\u001b[38;5;124m'\u001b[39m\u001b[38;5;124mload_ext\u001b[39m\u001b[38;5;124m'\u001b[39m, \u001b[38;5;124m'\u001b[39m\u001b[38;5;124mautoreload\u001b[39m\u001b[38;5;124m'\u001b[39m)\n",
      "\u001b[0;31mModuleNotFoundError\u001b[0m: No module named 'dadapy'"
     ]
    }
   ],
   "source": [
    "import numpy as np\n",
    "import matplotlib.pyplot as plt\n",
    "from dadapy import Data\n",
    "from dadapy.plot import plot_SLAn, plot_MDS, plot_matrix, get_dendrogram, plot_DecGraph\n",
    "\n",
    "%load_ext autoreload\n",
    "%autoreload 2\n",
    "%matplotlib notebook\n",
    "%matplotlib inline\n"
   ]
  },
  {
   "cell_type": "markdown",
   "metadata": {},
   "source": [
    "2. Import a test data set and plot it. We will employ two dimensional datasets from the original ADP paper (ref.) "
   ]
  },
  {
   "cell_type": "code",
   "execution_count": null,
   "metadata": {},
   "outputs": [],
   "source": [
    "X = np.genfromtxt('datasets/Fig1.dat')\n",
    "# X = np.genfromtxt('datasets/Fig2.dat')\n",
    "# X = np.genfromtxt('datasets/FigS1.dat')\n",
    "# X = np.genfromtxt('datasets/FigS2.dat')\n",
    "# X = np.genfromtxt('datasets/FigS3.dat')\n",
    "# X = np.genfromtxt('datasets/FigS4.dat')\n",
    "f, ax = plt.subplots(1, 1, figsize = (7, 7),gridspec_kw={'hspace': 0.05, 'wspace': 0})\n",
    "ax.yaxis.set_major_locator(plt.NullLocator())\n",
    "ax.xaxis.set_major_locator(plt.NullLocator())\n",
    "ax.set_title('2D scatter of the data')\n",
    "ax.scatter(X[:,0],X[:,1],s=15.,alpha=1.0,c='black',linewidths=0.0)\n",
    "plt.show()"
   ]
  },
  {
   "cell_type": "markdown",
   "metadata": {},
   "source": [
    "3. Initialize the Data class from the DADApy module. We set the verbose mode so we can follow all the steps."
   ]
  },
  {
   "cell_type": "code",
   "execution_count": null,
   "metadata": {},
   "outputs": [],
   "source": [
    "data = Data(X,verbose=True)"
   ]
  },
  {
   "cell_type": "markdown",
   "metadata": {},
   "source": [
    "4. Compute distances up to the maxk NN"
   ]
  },
  {
   "cell_type": "code",
   "execution_count": null,
   "metadata": {},
   "outputs": [],
   "source": [
    "data.compute_distances(maxk = 1000)"
   ]
  },
  {
   "cell_type": "markdown",
   "metadata": {},
   "source": [
    "5. Estimate the Intrinsic Dimension"
   ]
  },
  {
   "cell_type": "code",
   "execution_count": null,
   "metadata": {},
   "outputs": [],
   "source": [
    "data.compute_id_2NN()"
   ]
  },
  {
   "cell_type": "markdown",
   "metadata": {},
   "source": [
    "6. Estimate the density"
   ]
  },
  {
   "cell_type": "code",
   "execution_count": null,
   "metadata": {},
   "outputs": [],
   "source": [
    "#data.compute_density_PAk()\n",
    "data.compute_density_kstarNN()"
   ]
  },
  {
   "cell_type": "markdown",
   "metadata": {},
   "source": [
    "#### Plot of the estimated densities"
   ]
  },
  {
   "cell_type": "code",
   "execution_count": null,
   "metadata": {},
   "outputs": [],
   "source": [
    "f, [ax1 ,ax2] = plt.subplots(1, 2, figsize = (16, 7),gridspec_kw={'hspace': 0.05, 'wspace': 0})\n",
    "ax1.yaxis.set_major_locator(plt.NullLocator())\n",
    "ax1.xaxis.set_major_locator(plt.NullLocator())\n",
    "ax1.set_title('Estimated log densities')\n",
    "\n",
    "ax1.scatter(X[:,0],X[:,1],s=15.,alpha=0.9, c = data.log_den,linewidths=0.0)\n",
    "ax2.yaxis.set_major_locator(plt.NullLocator())\n",
    "ax2.xaxis.set_major_locator(plt.NullLocator())\n",
    "ax2.set_title('Estimated log densities interpolated')\n",
    "ax2.tricontour(X[:,0],X[:,1],data.log_den,levels=10, linewidths=0.5, colors='k')\n",
    "fig2=ax2.tricontourf(X[:,0],X[:,1],data.log_den,levels=250,alpha=0.9)\n",
    "\n",
    "plt.colorbar(fig2)\n",
    "plt.show()"
   ]
  },
  {
   "cell_type": "markdown",
   "metadata": {},
   "source": [
    "Once the density is computed, DADApy offers two density based clustering methods:\n",
    "\n",
    "    1.-Classical Density Peaks clustering.\n",
    "    2.-Advanced Density Peaks clustering."
   ]
  },
  {
   "cell_type": "markdown",
   "metadata": {},
   "source": [
    "## Classical Density Peaks clustering"
   ]
  },
  {
   "cell_type": "markdown",
   "metadata": {},
   "source": [
    "Following Rodriguez & Laio, Science 344 (6191), 1492-1496.\n",
    "\n",
    "1.- Compute the so-called decison graph and plot it (Note that the density has been computed in previous steps)."
   ]
  },
  {
   "cell_type": "code",
   "execution_count": null,
   "metadata": {},
   "outputs": [],
   "source": [
    "data.compute_DecGraph()\n",
    "plot_DecGraph(data)"
   ]
  },
  {
   "cell_type": "markdown",
   "metadata": {},
   "source": [
    "2.- Identify the centers of the clusters as outliers in the graph. We therefore define the characteristics that   the data points must fulfill to be considered as cluster centers (which are the parameters for the next step):\n",
    "\n",
    "    a) the minimum log_den value (__dens_cut__).\n",
    "    b) the minimum distance from a point with higher density (__delta_cut__) "
   ]
  },
  {
   "cell_type": "code",
   "execution_count": null,
   "metadata": {},
   "outputs": [],
   "source": [
    "# This graph shows the chosen outliers\n",
    "dens_cut=-7.\n",
    "delta_cut=1.75\n",
    "plt.xlabel(r\"$\\rho$\")\n",
    "plt.ylabel(r\"$\\delta$\")\n",
    "plt.scatter(data.log_den, data.delta)\n",
    "bottom,up=plt.ylim()\n",
    "left,right=plt.xlim()\n",
    "plt.plot ([dens_cut, dens_cut], [delta_cut, up], color=\"k\", linestyle=\"-\", linewidth=2)\n",
    "plt.plot ([dens_cut, right], [delta_cut, delta_cut], color=\"k\", linestyle=\"-\", linewidth=2)\n",
    "plt.show()\n"
   ]
  },
  {
   "cell_type": "markdown",
   "metadata": {},
   "source": [
    "3.- Once the cluster centers are assigned, the next function perform the clustering assignation"
   ]
  },
  {
   "cell_type": "code",
   "execution_count": null,
   "metadata": {},
   "outputs": [],
   "source": [
    "data.compute_clustering_DP(dens_cut=dens_cut,delta_cut=delta_cut, halo=True)"
   ]
  },
  {
   "cell_type": "markdown",
   "metadata": {},
   "source": [
    "#### Plot of the DP clustering assignation"
   ]
  },
  {
   "cell_type": "code",
   "execution_count": null,
   "metadata": {},
   "outputs": [],
   "source": [
    "Nclus_m=np.max(data.cluster_assignment)+1\n",
    "color= plt.get_cmap('gist_rainbow', Nclus_m)\n",
    "f, ax = plt.subplots(1, 1, figsize = (13, 10))\n",
    "ax.yaxis.set_major_locator(plt.NullLocator())\n",
    "ax.xaxis.set_major_locator(plt.NullLocator())\n",
    "ax.set_title('DP assignation without halo')\n",
    "xdtmp=[]\n",
    "ydtmp=[]\n",
    "ldtmp=[]\n",
    "xntmp=[]\n",
    "yntmp=[]\n",
    "for j in range(len(data.cluster_assignment)):\n",
    "    if (data.cluster_assignment[j]!=-1):\n",
    "        xdtmp.append(data.X[j,0]) \n",
    "        ydtmp.append(data.X[j,1])\n",
    "        ldtmp.append(data.cluster_assignment[j])\n",
    "    else:\n",
    "        xntmp.append(data.X[j,0])\n",
    "        yntmp.append(data.X[j,1])\n",
    "        \n",
    "plt.scatter(xdtmp,ydtmp,s=15.,alpha=1.0, c=ldtmp,linewidths=0.0,cmap=color)\n",
    "plt.colorbar(ticks=range(Nclus_m))\n",
    "plt.clim(-0.5, Nclus_m-0.5)\n",
    "plt.scatter(xntmp,yntmp,s=10.,alpha=0.5, c='black',linewidths=0.0)\n",
    "plt.show()"
   ]
  },
  {
   "cell_type": "markdown",
   "metadata": {},
   "source": [
    "## Advanced Density Peaks (ADP)"
   ]
  },
  {
   "cell_type": "markdown",
   "metadata": {},
   "source": [
    "A more recent option (M d’Errico, E Facco, A Laio, A Rodriguez Information Sciences 560, 476-492) eliminates the\n",
    "need of identifying the cluster centers in the decision graph. It has a single parameter, __Z__, that is a measure of the statistical realiability of the clusters found.  "
   ]
  },
  {
   "cell_type": "code",
   "execution_count": null,
   "metadata": {},
   "outputs": [],
   "source": [
    "data.compute_clustering_ADP(Z = 1.65, halo=True)"
   ]
  },
  {
   "cell_type": "markdown",
   "metadata": {},
   "source": [
    "#### Plot of the ADP clustering assignation"
   ]
  },
  {
   "cell_type": "code",
   "execution_count": null,
   "metadata": {},
   "outputs": [],
   "source": [
    "Nclus_m=len(data.cluster_centers) \n",
    "cmap = plt.get_cmap('gist_rainbow', Nclus_m)\n",
    "f, ax = plt.subplots(1, 1, figsize = (13, 10))\n",
    "ax.yaxis.set_major_locator(plt.NullLocator())\n",
    "ax.xaxis.set_major_locator(plt.NullLocator())\n",
    "ax.set_title('DPA assignation with halo')\n",
    "xdtmp=[]\n",
    "ydtmp=[]\n",
    "ldtmp=[]\n",
    "xntmp=[]\n",
    "yntmp=[]\n",
    "for j in range(len(data.cluster_assignment)):\n",
    "    if (data.cluster_assignment[j]!=-1):\n",
    "        xdtmp.append(data.X[j,0]) \n",
    "        ydtmp.append(data.X[j,1])\n",
    "        ldtmp.append(data.cluster_assignment[j])\n",
    "    else:\n",
    "        xntmp.append(data.X[j,0])\n",
    "        yntmp.append(data.X[j,1])\n",
    "        \n",
    "plt.scatter(xdtmp,ydtmp,s=15.,alpha=1.0, c=ldtmp,linewidths=0.0,cmap=cmap)\n",
    "plt.colorbar(ticks=range(Nclus_m))\n",
    "plt.clim(-0.5, Nclus_m-0.5)\n",
    "plt.scatter(xntmp,yntmp,s=10.,alpha=0.5, c='black',linewidths=0.0)\n",
    "plt.show()"
   ]
  },
  {
   "cell_type": "markdown",
   "metadata": {},
   "source": [
    "Moreover, the method provides a measure of the hierarchical relationships among clusters. Following the original paper, we have three ways for visualizing these relationships: \n",
    "As a *dendrogram*, as a *2D multidimensional scaling projection* and as a *matrix*.   "
   ]
  },
  {
   "cell_type": "markdown",
   "metadata": {},
   "source": [
    "#### Dendrogram obtention and interpretation"
   ]
  },
  {
   "cell_type": "code",
   "execution_count": null,
   "metadata": {},
   "outputs": [],
   "source": [
    "get_dendrogram(data,logscale=False,cmap=\"gist_rainbow\")"
   ]
  },
  {
   "cell_type": "markdown",
   "metadata": {},
   "source": [
    "The dendrogram is a classical way of visualizing hierarchies. The height of the points correspond to the log_den\n",
    "value of the cluster center, and the value on the y-axis of the connections corresponds to the log_den at the \n",
    "border between clusters. To encode more information, the space around each point is proportional to the cluster\n",
    "population (or its logarithm if the logscale variable is set to True)."
   ]
  },
  {
   "cell_type": "markdown",
   "metadata": {},
   "source": [
    "#### 2D multidimensional scaling obtention and interpretation"
   ]
  },
  {
   "cell_type": "code",
   "execution_count": null,
   "metadata": {},
   "outputs": [],
   "source": [
    "plot_MDS(data,cmap='gist_rainbow')"
   ]
  },
  {
   "cell_type": "markdown",
   "metadata": {},
   "source": [
    "This projection allows to see the similarity relationships among clusters, based on the principle that the higher is the density of points at the border between clusters, the more similar they are. The size of the cluster circle is proportional to its population and the distances between circles and the widths of the lines connecting them are proportional to the density at the borders between clusters.  "
   ]
  },
  {
   "cell_type": "markdown",
   "metadata": {},
   "source": [
    "#### Matrix obtention and interpretation"
   ]
  },
  {
   "cell_type": "code",
   "execution_count": null,
   "metadata": {
    "pycharm": {
     "name": "#%%\n"
    }
   },
   "outputs": [],
   "source": [
    "plot_matrix(data)"
   ]
  },
  {
   "cell_type": "markdown",
   "metadata": {},
   "source": [
    "This is a direct visualization of the key densities resulting from the clustering. It is matrix plot in gray scale, where the darkest the square, the higher the density. The diagonal points correspond to the center of the cluster while the off-diagonal correspond to the density at the border.  "
   ]
  }
 ],
 "metadata": {
  "kernelspec": {
   "display_name": "Python 3 (ipykernel)",
   "language": "python",
   "name": "python3"
  },
  "language_info": {
   "codemirror_mode": {
    "name": "ipython",
    "version": 3
   },
   "file_extension": ".py",
   "mimetype": "text/x-python",
   "name": "python",
   "nbconvert_exporter": "python",
   "pygments_lexer": "ipython3",
   "version": "3.11.5"
  },
  "toc": {
   "base_numbering": 1,
   "nav_menu": {},
   "number_sections": true,
   "sideBar": true,
   "skip_h1_title": false,
   "title_cell": "Table of Contents",
   "title_sidebar": "Contents",
   "toc_cell": false,
   "toc_position": {},
   "toc_section_display": true,
   "toc_window_display": false
  }
 },
 "nbformat": 4,
 "nbformat_minor": 4
}
